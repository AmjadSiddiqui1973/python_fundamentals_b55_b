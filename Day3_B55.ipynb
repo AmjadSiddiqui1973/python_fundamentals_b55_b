{
 "cells": [
  {
   "cell_type": "code",
   "execution_count": 1,
   "id": "5b6bb998",
   "metadata": {},
   "outputs": [],
   "source": [
    "#Continuation with strngs:"
   ]
  },
  {
   "cell_type": "code",
   "execution_count": 2,
   "id": "8ca034bc",
   "metadata": {},
   "outputs": [],
   "source": [
    "name='john'"
   ]
  },
  {
   "cell_type": "code",
   "execution_count": 3,
   "id": "628ed24f",
   "metadata": {},
   "outputs": [
    {
     "name": "stdout",
     "output_type": "stream",
     "text": [
      "john\n"
     ]
    }
   ],
   "source": [
    "print(name)"
   ]
  },
  {
   "cell_type": "code",
   "execution_count": 5,
   "id": "961703c6",
   "metadata": {},
   "outputs": [],
   "source": [
    "# Introduction to String Methods:-"
   ]
  },
  {
   "cell_type": "code",
   "execution_count": 6,
   "id": "643ae09f",
   "metadata": {},
   "outputs": [],
   "source": [
    "#methods are by default builtin program that wecan use"
   ]
  },
  {
   "cell_type": "code",
   "execution_count": 7,
   "id": "88876228",
   "metadata": {},
   "outputs": [
    {
     "data": {
      "text/plain": [
       "str"
      ]
     },
     "execution_count": 7,
     "metadata": {},
     "output_type": "execute_result"
    }
   ],
   "source": [
    "type(name)"
   ]
  },
  {
   "cell_type": "code",
   "execution_count": 8,
   "id": "ed88df4c",
   "metadata": {},
   "outputs": [],
   "source": [
    "#type ....> it is used to validte the data type String ....> Str."
   ]
  },
  {
   "cell_type": "code",
   "execution_count": 10,
   "id": "c9a80775",
   "metadata": {},
   "outputs": [],
   "source": [
    "full_name='naveen kumar'"
   ]
  },
  {
   "cell_type": "code",
   "execution_count": 11,
   "id": "58ae70df",
   "metadata": {},
   "outputs": [
    {
     "name": "stdout",
     "output_type": "stream",
     "text": [
      "naveen kumar\n"
     ]
    }
   ],
   "source": [
    "print(full_name)"
   ]
  },
  {
   "cell_type": "code",
   "execution_count": 19,
   "id": "6fbd1740",
   "metadata": {},
   "outputs": [],
   "source": [
    "full_name='naveen kumar'"
   ]
  },
  {
   "cell_type": "code",
   "execution_count": 18,
   "id": "10096783",
   "metadata": {},
   "outputs": [
    {
     "name": "stdout",
     "output_type": "stream",
     "text": [
      "Naveen Kumar\n"
     ]
    }
   ],
   "source": [
    "print(full_name.title())"
   ]
  },
  {
   "cell_type": "code",
   "execution_count": 20,
   "id": "6a87d420",
   "metadata": {},
   "outputs": [],
   "source": [
    "# Requierment : I want to ge tthe complete name in capital letter?"
   ]
  },
  {
   "cell_type": "code",
   "execution_count": 21,
   "id": "6468994f",
   "metadata": {},
   "outputs": [],
   "source": [
    "full_name='naveen kumar'"
   ]
  },
  {
   "cell_type": "code",
   "execution_count": 22,
   "id": "a5714b5e",
   "metadata": {},
   "outputs": [
    {
     "name": "stdout",
     "output_type": "stream",
     "text": [
      "NAVEEN KUMAR\n"
     ]
    }
   ],
   "source": [
    "print(full_name.upper())"
   ]
  },
  {
   "cell_type": "code",
   "execution_count": 23,
   "id": "8f288c90",
   "metadata": {},
   "outputs": [],
   "source": [
    "# Requierment : I want to ge tthe complete name in small letter?"
   ]
  },
  {
   "cell_type": "code",
   "execution_count": 25,
   "id": "aa2748b5",
   "metadata": {},
   "outputs": [],
   "source": [
    "full_name=\"amjad siddiqui\""
   ]
  },
  {
   "cell_type": "code",
   "execution_count": 26,
   "id": "bb3565a7",
   "metadata": {},
   "outputs": [
    {
     "name": "stdout",
     "output_type": "stream",
     "text": [
      "amjad siddiqui\n"
     ]
    }
   ],
   "source": [
    "print(full_name.lower())"
   ]
  },
  {
   "cell_type": "code",
   "execution_count": 27,
   "id": "7769b11d",
   "metadata": {},
   "outputs": [],
   "source": [
    "#Introdcution of f string:"
   ]
  },
  {
   "cell_type": "code",
   "execution_count": 28,
   "id": "5b6cb92a",
   "metadata": {},
   "outputs": [],
   "source": [
    "#General syntax of strings:"
   ]
  },
  {
   "cell_type": "code",
   "execution_count": 29,
   "id": "c3466571",
   "metadata": {},
   "outputs": [],
   "source": [
    "# f \"custom words {place holder1}{place holder@}{place holder}\""
   ]
  },
  {
   "cell_type": "code",
   "execution_count": 55,
   "id": "c91308a0",
   "metadata": {},
   "outputs": [],
   "source": [
    "first_name='sunil'"
   ]
  },
  {
   "cell_type": "code",
   "execution_count": 56,
   "id": "815acde5",
   "metadata": {},
   "outputs": [],
   "source": [
    "last_name='yadav'"
   ]
  },
  {
   "cell_type": "code",
   "execution_count": 57,
   "id": "09fc9861",
   "metadata": {},
   "outputs": [],
   "source": [
    "full_name=f'{first_name}{last_name}'"
   ]
  },
  {
   "cell_type": "code",
   "execution_count": null,
   "id": "4ac96a87",
   "metadata": {},
   "outputs": [],
   "source": []
  },
  {
   "cell_type": "code",
   "execution_count": 58,
   "id": "81a91e37",
   "metadata": {},
   "outputs": [
    {
     "name": "stdout",
     "output_type": "stream",
     "text": [
      "sunilyadav\n"
     ]
    }
   ],
   "source": [
    "print(full_name)"
   ]
  },
  {
   "cell_type": "code",
   "execution_count": 60,
   "id": "e65722b8",
   "metadata": {},
   "outputs": [
    {
     "name": "stdout",
     "output_type": "stream",
     "text": [
      "Sunilyadav\n"
     ]
    }
   ],
   "source": [
    "print(full_name.title())"
   ]
  },
  {
   "cell_type": "code",
   "execution_count": 62,
   "id": "3ae22881",
   "metadata": {},
   "outputs": [],
   "source": [
    "# I want to appreciate sunil for sending the running notes to me daily"
   ]
  },
  {
   "cell_type": "code",
   "execution_count": 74,
   "id": "02b7d560",
   "metadata": {},
   "outputs": [],
   "source": [
    "message=f\"keep the good work\",{full_name.title()}"
   ]
  },
  {
   "cell_type": "code",
   "execution_count": 73,
   "id": "cbed38cf",
   "metadata": {},
   "outputs": [
    {
     "name": "stdout",
     "output_type": "stream",
     "text": [
      "('keep the good work', {'F{Firs_Name}{Last_Name}'})\n"
     ]
    }
   ],
   "source": [
    "print(message)"
   ]
  },
  {
   "cell_type": "code",
   "execution_count": 75,
   "id": "64822e17",
   "metadata": {},
   "outputs": [
    {
     "name": "stdout",
     "output_type": "stream",
     "text": [
      "('keep the good work', {'Sunilyadav'})\n"
     ]
    }
   ],
   "source": [
    "print(message)"
   ]
  },
  {
   "cell_type": "code",
   "execution_count": null,
   "id": "72039031",
   "metadata": {},
   "outputs": [],
   "source": [
    "#Adding white spaces to strings:-"
   ]
  },
  {
   "cell_type": "code",
   "execution_count": 92,
   "id": "d2a45253",
   "metadata": {},
   "outputs": [
    {
     "name": "stdout",
     "output_type": "stream",
     "text": [
      "Favourite_language:python,C++,java,swift,cobol\n"
     ]
    }
   ],
   "source": [
    "print(\"Favourite_language:python,C++,java,swift,cobol\")"
   ]
  },
  {
   "cell_type": "code",
   "execution_count": 89,
   "id": "190d5f85",
   "metadata": {},
   "outputs": [
    {
     "name": "stdout",
     "output_type": "stream",
     "text": [
      "favourite_language:\n",
      "python\n",
      "c++\n",
      "java\n",
      "swift\n",
      "cobol\n"
     ]
    }
   ],
   "source": [
    "print(\"favourite_language:\\npython\\nc++\\njava\\nswift\\ncobol\")"
   ]
  },
  {
   "cell_type": "code",
   "execution_count": 95,
   "id": "90b03905",
   "metadata": {},
   "outputs": [
    {
     "name": "stdout",
     "output_type": "stream",
     "text": [
      "favourite_language:\n",
      "\tpyhon\n",
      "\tc++\n",
      "\tjava\n",
      "\tswift\n",
      "\tcobol\n"
     ]
    }
   ],
   "source": [
    "print(\"favourite_language:\\n\\tpyhon\\n\\tc++\\n\\tjava\\n\\tswift\\n\\tcobol\")"
   ]
  },
  {
   "cell_type": "code",
   "execution_count": 96,
   "id": "511d7a7e",
   "metadata": {},
   "outputs": [],
   "source": [
    "#removing white spaces from string:"
   ]
  },
  {
   "cell_type": "code",
   "execution_count": 99,
   "id": "1dccbb5a",
   "metadata": {},
   "outputs": [],
   "source": [
    "name='paython'"
   ]
  },
  {
   "cell_type": "code",
   "execution_count": 100,
   "id": "e3ecfb15",
   "metadata": {},
   "outputs": [
    {
     "name": "stdout",
     "output_type": "stream",
     "text": [
      "paython\n"
     ]
    }
   ],
   "source": [
    "print(name)"
   ]
  },
  {
   "cell_type": "code",
   "execution_count": 101,
   "id": "c047c606",
   "metadata": {},
   "outputs": [],
   "source": [
    "name2= 'python'"
   ]
  },
  {
   "cell_type": "code",
   "execution_count": 102,
   "id": "7f72c9c6",
   "metadata": {},
   "outputs": [
    {
     "name": "stdout",
     "output_type": "stream",
     "text": [
      "python\n"
     ]
    }
   ],
   "source": [
    "print(name2)"
   ]
  },
  {
   "cell_type": "code",
   "execution_count": 103,
   "id": "82a341b3",
   "metadata": {},
   "outputs": [],
   "source": [
    "name3='python '"
   ]
  },
  {
   "cell_type": "code",
   "execution_count": 104,
   "id": "3cc27cab",
   "metadata": {},
   "outputs": [
    {
     "name": "stdout",
     "output_type": "stream",
     "text": [
      "paython\n"
     ]
    }
   ],
   "source": [
    "print(name)"
   ]
  },
  {
   "cell_type": "code",
   "execution_count": 106,
   "id": "4204d381",
   "metadata": {},
   "outputs": [
    {
     "data": {
      "text/plain": [
       "'python'"
      ]
     },
     "execution_count": 106,
     "metadata": {},
     "output_type": "execute_result"
    }
   ],
   "source": [
    "name2.lstrip()"
   ]
  },
  {
   "cell_type": "code",
   "execution_count": 107,
   "id": "d4411f45",
   "metadata": {},
   "outputs": [
    {
     "data": {
      "text/plain": [
       "'python'"
      ]
     },
     "execution_count": 107,
     "metadata": {},
     "output_type": "execute_result"
    }
   ],
   "source": [
    "name3.rstrip()"
   ]
  },
  {
   "cell_type": "code",
   "execution_count": 108,
   "id": "c3500b76",
   "metadata": {},
   "outputs": [],
   "source": [
    "name4= \" python \""
   ]
  },
  {
   "cell_type": "code",
   "execution_count": 109,
   "id": "167a6ec5",
   "metadata": {},
   "outputs": [
    {
     "name": "stdout",
     "output_type": "stream",
     "text": [
      " python \n"
     ]
    }
   ],
   "source": [
    "print(name4)"
   ]
  },
  {
   "cell_type": "code",
   "execution_count": 110,
   "id": "d7763a08",
   "metadata": {},
   "outputs": [
    {
     "data": {
      "text/plain": [
       "'python'"
      ]
     },
     "execution_count": 110,
     "metadata": {},
     "output_type": "execute_result"
    }
   ],
   "source": [
    "name4.strip()"
   ]
  },
  {
   "cell_type": "code",
   "execution_count": null,
   "id": "02da7c72",
   "metadata": {},
   "outputs": [],
   "source": []
  },
  {
   "cell_type": "code",
   "execution_count": null,
   "id": "ab55a236",
   "metadata": {},
   "outputs": [],
   "source": []
  },
  {
   "cell_type": "code",
   "execution_count": null,
   "id": "ef6382b4",
   "metadata": {},
   "outputs": [],
   "source": []
  }
 ],
 "metadata": {
  "kernelspec": {
   "display_name": "Python 3",
   "language": "python",
   "name": "python3"
  },
  "language_info": {
   "codemirror_mode": {
    "name": "ipython",
    "version": 3
   },
   "file_extension": ".py",
   "mimetype": "text/x-python",
   "name": "python",
   "nbconvert_exporter": "python",
   "pygments_lexer": "ipython3",
   "version": "3.8.8"
  }
 },
 "nbformat": 4,
 "nbformat_minor": 5
}
