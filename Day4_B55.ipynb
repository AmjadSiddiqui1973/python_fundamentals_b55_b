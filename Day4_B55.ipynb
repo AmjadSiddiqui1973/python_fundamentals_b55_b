{
 "cells": [
  {
   "cell_type": "code",
   "execution_count": 1,
   "id": "b21db1b1",
   "metadata": {},
   "outputs": [],
   "source": [
    "#Introduction of list data type:"
   ]
  },
  {
   "cell_type": "code",
   "execution_count": 2,
   "id": "cef51906",
   "metadata": {},
   "outputs": [],
   "source": [
    "#Defination:- List is a collection of items declared in a particular order"
   ]
  },
  {
   "cell_type": "code",
   "execution_count": 3,
   "id": "e3ec62ed",
   "metadata": {},
   "outputs": [],
   "source": [
    "#Classificaiton: it is classified as immutable data type."
   ]
  },
  {
   "cell_type": "code",
   "execution_count": 4,
   "id": "cd8b4891",
   "metadata": {},
   "outputs": [],
   "source": [
    "#How to define the list .....? [ ]  (square bracket)"
   ]
  },
  {
   "cell_type": "code",
   "execution_count": 6,
   "id": "559d7c62",
   "metadata": {},
   "outputs": [],
   "source": [
    "students=['anil','kumar','sreeja','keerthi','rafi','simran']"
   ]
  },
  {
   "cell_type": "code",
   "execution_count": 7,
   "id": "c20d1338",
   "metadata": {},
   "outputs": [
    {
     "name": "stdout",
     "output_type": "stream",
     "text": [
      "['anil', 'kumar', 'sreeja', 'keerthi', 'rafi', 'simran']\n"
     ]
    }
   ],
   "source": [
    "print(students)"
   ]
  },
  {
   "cell_type": "code",
   "execution_count": 10,
   "id": "27ee437d",
   "metadata": {},
   "outputs": [
    {
     "data": {
      "text/plain": [
       "list"
      ]
     },
     "execution_count": 10,
     "metadata": {},
     "output_type": "execute_result"
    }
   ],
   "source": [
    "type(students)"
   ]
  },
  {
   "cell_type": "code",
   "execution_count": 12,
   "id": "8866ddb2",
   "metadata": {},
   "outputs": [
    {
     "name": "stdout",
     "output_type": "stream",
     "text": [
      "['anil', 'kumar', 'sreeja', 'keerthi', 'rafi', 'simran']\n"
     ]
    }
   ],
   "source": [
    "print(students)"
   ]
  },
  {
   "cell_type": "code",
   "execution_count": 14,
   "id": "79e2faf9",
   "metadata": {},
   "outputs": [],
   "source": [
    "#  0       1         2          3        4        5  (Indexing)"
   ]
  },
  {
   "cell_type": "code",
   "execution_count": 15,
   "id": "17657289",
   "metadata": {},
   "outputs": [],
   "source": [
    "# requirement:- I want to access kumar name for the above list"
   ]
  },
  {
   "cell_type": "code",
   "execution_count": 17,
   "id": "0da14357",
   "metadata": {},
   "outputs": [],
   "source": [
    "# Introduction to Indexing ..... 0,1,2,3,4,.......n"
   ]
  },
  {
   "cell_type": "code",
   "execution_count": 19,
   "id": "e3bdf9da",
   "metadata": {},
   "outputs": [
    {
     "name": "stdout",
     "output_type": "stream",
     "text": [
      "kumar\n"
     ]
    }
   ],
   "source": [
    "print(students[1])"
   ]
  },
  {
   "cell_type": "code",
   "execution_count": 20,
   "id": "2d3aab98",
   "metadata": {},
   "outputs": [],
   "source": [
    "# i want to access keerthi name from the above list ....?"
   ]
  },
  {
   "cell_type": "code",
   "execution_count": 21,
   "id": "99c2b77e",
   "metadata": {},
   "outputs": [
    {
     "name": "stdout",
     "output_type": "stream",
     "text": [
      "keerthi\n"
     ]
    }
   ],
   "source": [
    "print(student[3])"
   ]
  },
  {
   "cell_type": "code",
   "execution_count": 22,
   "id": "05887c2f",
   "metadata": {},
   "outputs": [],
   "source": [
    "#  1. How to add new element to the list .....?"
   ]
  },
  {
   "cell_type": "code",
   "execution_count": 23,
   "id": "326fb1d7",
   "metadata": {},
   "outputs": [],
   "source": [
    "#  2. How to modify the element in the list ......?"
   ]
  },
  {
   "cell_type": "code",
   "execution_count": 24,
   "id": "82e537c2",
   "metadata": {},
   "outputs": [],
   "source": [
    "#  3. How to delete the element in the list .......?"
   ]
  },
  {
   "cell_type": "code",
   "execution_count": 25,
   "id": "d53b3d37",
   "metadata": {},
   "outputs": [
    {
     "name": "stdout",
     "output_type": "stream",
     "text": [
      "['anil', 'kumar', 'sreeja', 'keerthi', 'rafi', 'simran']\n"
     ]
    }
   ],
   "source": [
    "print(students)"
   ]
  },
  {
   "cell_type": "code",
   "execution_count": 26,
   "id": "6a6eea39",
   "metadata": {},
   "outputs": [],
   "source": [
    "#requirement i want to add naveen to above list.....?"
   ]
  },
  {
   "cell_type": "code",
   "execution_count": 27,
   "id": "93bcda10",
   "metadata": {},
   "outputs": [],
   "source": [
    "students.append('naveen')"
   ]
  },
  {
   "cell_type": "code",
   "execution_count": 28,
   "id": "475e5ed1",
   "metadata": {},
   "outputs": [
    {
     "name": "stdout",
     "output_type": "stream",
     "text": [
      "['anil', 'kumar', 'sreeja', 'keerthi', 'rafi', 'simran', 'naveen']\n"
     ]
    }
   ],
   "source": [
    "print(students)"
   ]
  },
  {
   "cell_type": "code",
   "execution_count": 29,
   "id": "6cc74000",
   "metadata": {},
   "outputs": [],
   "source": [
    "# requriement:- i want to add adil to the above list ....?"
   ]
  },
  {
   "cell_type": "code",
   "execution_count": 30,
   "id": "d483728e",
   "metadata": {},
   "outputs": [],
   "source": [
    "students.append('adil')"
   ]
  },
  {
   "cell_type": "code",
   "execution_count": 31,
   "id": "03782b9b",
   "metadata": {},
   "outputs": [
    {
     "name": "stdout",
     "output_type": "stream",
     "text": [
      "['anil', 'kumar', 'sreeja', 'keerthi', 'rafi', 'simran', 'naveen', 'adil']\n"
     ]
    }
   ],
   "source": [
    "print(students)"
   ]
  },
  {
   "cell_type": "code",
   "execution_count": 32,
   "id": "9ad3c97e",
   "metadata": {},
   "outputs": [],
   "source": [
    "# requirment I want to add pallavi to the second index"
   ]
  },
  {
   "cell_type": "code",
   "execution_count": 33,
   "id": "bcae9521",
   "metadata": {},
   "outputs": [],
   "source": [
    "students.insert(2,'pallavi')"
   ]
  },
  {
   "cell_type": "code",
   "execution_count": 35,
   "id": "3c9e8662",
   "metadata": {},
   "outputs": [
    {
     "name": "stdout",
     "output_type": "stream",
     "text": [
      "['anil', 'kumar', 'pallavi', 'sreeja', 'keerthi', 'rafi', 'simran', 'naveen', 'adil']\n"
     ]
    }
   ],
   "source": [
    "print(students)"
   ]
  },
  {
   "cell_type": "code",
   "execution_count": 40,
   "id": "995109f5",
   "metadata": {},
   "outputs": [
    {
     "name": "stdout",
     "output_type": "stream",
     "text": [
      "pallavi\n"
     ]
    }
   ],
   "source": [
    "print(students[2])"
   ]
  },
  {
   "cell_type": "code",
   "execution_count": 41,
   "id": "f3ac536f",
   "metadata": {},
   "outputs": [],
   "source": [
    "# what is the difference between append and insert method in a list"
   ]
  },
  {
   "cell_type": "code",
   "execution_count": 42,
   "id": "6c926e08",
   "metadata": {},
   "outputs": [],
   "source": [
    "# 2. How to modify element in the list ....?"
   ]
  },
  {
   "cell_type": "code",
   "execution_count": 43,
   "id": "13e7649a",
   "metadata": {},
   "outputs": [
    {
     "name": "stdout",
     "output_type": "stream",
     "text": [
      "['anil', 'kumar', 'pallavi', 'sreeja', 'keerthi', 'rafi', 'simran', 'naveen', 'adil']\n"
     ]
    }
   ],
   "source": [
    "print(students)"
   ]
  },
  {
   "cell_type": "code",
   "execution_count": 44,
   "id": "0ab21e3a",
   "metadata": {},
   "outputs": [],
   "source": [
    "# iwant to change sreeja name to meghna"
   ]
  },
  {
   "cell_type": "code",
   "execution_count": 46,
   "id": "c6304a7e",
   "metadata": {},
   "outputs": [
    {
     "name": "stdout",
     "output_type": "stream",
     "text": [
      "sreeja\n"
     ]
    }
   ],
   "source": [
    "print(students[3])"
   ]
  },
  {
   "cell_type": "code",
   "execution_count": 50,
   "id": "c21a9ba2",
   "metadata": {},
   "outputs": [],
   "source": [
    "students[3]='meghna'"
   ]
  },
  {
   "cell_type": "code",
   "execution_count": 51,
   "id": "ee914020",
   "metadata": {},
   "outputs": [
    {
     "name": "stdout",
     "output_type": "stream",
     "text": [
      "['anil', 'kumar', 'pallavi', 'meghna', 'keerthi', 'rafi', 'simran', 'naveen', 'adil']\n"
     ]
    }
   ],
   "source": [
    "print(students)"
   ]
  },
  {
   "cell_type": "code",
   "execution_count": 52,
   "id": "d981c2ca",
   "metadata": {},
   "outputs": [],
   "source": [
    "# 3. How to delete the elements in the list.....?"
   ]
  },
  {
   "cell_type": "code",
   "execution_count": 55,
   "id": "2476d96d",
   "metadata": {},
   "outputs": [],
   "source": [
    "# i want to delete anil name from the lsit .....?"
   ]
  },
  {
   "cell_type": "code",
   "execution_count": 56,
   "id": "35389745",
   "metadata": {},
   "outputs": [],
   "source": [
    "del students[0]"
   ]
  },
  {
   "cell_type": "code",
   "execution_count": 57,
   "id": "9f519541",
   "metadata": {},
   "outputs": [
    {
     "name": "stdout",
     "output_type": "stream",
     "text": [
      "['kumar', 'pallavi', 'meghna', 'keerthi', 'rafi', 'simran', 'naveen', 'adil']\n"
     ]
    }
   ],
   "source": [
    "print(students)"
   ]
  },
  {
   "cell_type": "code",
   "execution_count": null,
   "id": "12b24b96",
   "metadata": {},
   "outputs": [],
   "source": []
  },
  {
   "cell_type": "code",
   "execution_count": null,
   "id": "6dcc2564",
   "metadata": {},
   "outputs": [],
   "source": []
  },
  {
   "cell_type": "code",
   "execution_count": null,
   "id": "6556cdf8",
   "metadata": {},
   "outputs": [],
   "source": []
  },
  {
   "cell_type": "code",
   "execution_count": null,
   "id": "6a131139",
   "metadata": {},
   "outputs": [],
   "source": []
  }
 ],
 "metadata": {
  "kernelspec": {
   "display_name": "Python 3",
   "language": "python",
   "name": "python3"
  },
  "language_info": {
   "codemirror_mode": {
    "name": "ipython",
    "version": 3
   },
   "file_extension": ".py",
   "mimetype": "text/x-python",
   "name": "python",
   "nbconvert_exporter": "python",
   "pygments_lexer": "ipython3",
   "version": "3.8.8"
  }
 },
 "nbformat": 4,
 "nbformat_minor": 5
}
