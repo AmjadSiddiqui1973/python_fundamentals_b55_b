{
 "cells": [
  {
   "cell_type": "code",
   "execution_count": 1,
   "id": "24339672",
   "metadata": {},
   "outputs": [],
   "source": [
    "#Continuation with list data type:-"
   ]
  },
  {
   "cell_type": "code",
   "execution_count": 2,
   "id": "6198e563",
   "metadata": {},
   "outputs": [],
   "source": [
    "# Organizing the list data types:-"
   ]
  },
  {
   "cell_type": "code",
   "execution_count": 18,
   "id": "32295cf9",
   "metadata": {},
   "outputs": [],
   "source": [
    "cars = ['Benz','Audi','Bmw','Maruthi','Kia','Hyundai']"
   ]
  },
  {
   "cell_type": "code",
   "execution_count": 19,
   "id": "c3c6bb85",
   "metadata": {},
   "outputs": [
    {
     "name": "stdout",
     "output_type": "stream",
     "text": [
      "['Benz', 'Audi', 'Bmw', 'Maruthi', 'Kia', 'Hyundai']\n"
     ]
    }
   ],
   "source": [
    "print(cars)"
   ]
  },
  {
   "cell_type": "code",
   "execution_count": 12,
   "id": "9def1f7b",
   "metadata": {},
   "outputs": [],
   "source": [
    "# I want to get the output in the alphabetical order ----->A......z"
   ]
  },
  {
   "cell_type": "code",
   "execution_count": 13,
   "id": "8b3e1eb6",
   "metadata": {},
   "outputs": [],
   "source": [
    "# 1. Temporary approach ----> sorted..... we can e the original order again"
   ]
  },
  {
   "cell_type": "code",
   "execution_count": 14,
   "id": "6d9946f0",
   "metadata": {},
   "outputs": [],
   "source": [
    "# 2. Permenant approach ----> sort...... changes are applied permenanatly"
   ]
  },
  {
   "cell_type": "code",
   "execution_count": 20,
   "id": "9ef08ffe",
   "metadata": {},
   "outputs": [
    {
     "name": "stdout",
     "output_type": "stream",
     "text": [
      "['Benz', 'Audi', 'Bmw', 'Maruthi', 'Kia', 'Hyundai']\n"
     ]
    }
   ],
   "source": [
    "print(cars)"
   ]
  },
  {
   "cell_type": "code",
   "execution_count": 21,
   "id": "752cd126",
   "metadata": {},
   "outputs": [
    {
     "name": "stdout",
     "output_type": "stream",
     "text": [
      "['Audi', 'Benz', 'Bmw', 'Hyundai', 'Kia', 'Maruthi']\n"
     ]
    }
   ],
   "source": [
    "print(sorted(cars))"
   ]
  },
  {
   "cell_type": "code",
   "execution_count": 22,
   "id": "85e6f551",
   "metadata": {},
   "outputs": [
    {
     "name": "stdout",
     "output_type": "stream",
     "text": [
      "['Benz', 'Audi', 'Bmw', 'Maruthi', 'Kia', 'Hyundai']\n"
     ]
    }
   ],
   "source": [
    "print(cars)"
   ]
  },
  {
   "cell_type": "code",
   "execution_count": 23,
   "id": "8e157d0a",
   "metadata": {},
   "outputs": [],
   "source": [
    "cars.sort()"
   ]
  },
  {
   "cell_type": "code",
   "execution_count": 24,
   "id": "351dec2a",
   "metadata": {},
   "outputs": [
    {
     "name": "stdout",
     "output_type": "stream",
     "text": [
      "['Audi', 'Benz', 'Bmw', 'Hyundai', 'Kia', 'Maruthi']\n"
     ]
    }
   ],
   "source": [
    "print(cars)"
   ]
  },
  {
   "cell_type": "code",
   "execution_count": 25,
   "id": "947f59ce",
   "metadata": {},
   "outputs": [],
   "source": [
    "# Question? What is the difference between sorted and sort method in a list data type?"
   ]
  },
  {
   "cell_type": "code",
   "execution_count": 26,
   "id": "7db6607c",
   "metadata": {},
   "outputs": [],
   "source": [
    "# I want to printthe ente list in the reverse ordser..."
   ]
  },
  {
   "cell_type": "code",
   "execution_count": 27,
   "id": "19fd5ce9",
   "metadata": {},
   "outputs": [
    {
     "name": "stdout",
     "output_type": "stream",
     "text": [
      "['Audi', 'Benz', 'Bmw', 'Hyundai', 'Kia', 'Maruthi']\n"
     ]
    }
   ],
   "source": [
    "print(cars)"
   ]
  },
  {
   "cell_type": "code",
   "execution_count": 29,
   "id": "89364e9e",
   "metadata": {},
   "outputs": [],
   "source": [
    "cars.reverse()"
   ]
  },
  {
   "cell_type": "code",
   "execution_count": 30,
   "id": "37a29dba",
   "metadata": {},
   "outputs": [
    {
     "name": "stdout",
     "output_type": "stream",
     "text": [
      "['Maruthi', 'Kia', 'Hyundai', 'Bmw', 'Benz', 'Audi']\n"
     ]
    }
   ],
   "source": [
    "print(cars)"
   ]
  },
  {
   "cell_type": "code",
   "execution_count": 31,
   "id": "d07284cf",
   "metadata": {},
   "outputs": [],
   "source": [
    "# Requirement: - I want to know the count of number of elements in a list "
   ]
  },
  {
   "cell_type": "code",
   "execution_count": 32,
   "id": "f30ddfb3",
   "metadata": {},
   "outputs": [
    {
     "data": {
      "text/plain": [
       "6"
      ]
     },
     "execution_count": 32,
     "metadata": {},
     "output_type": "execute_result"
    }
   ],
   "source": [
    "len(cars)"
   ]
  },
  {
   "cell_type": "code",
   "execution_count": 33,
   "id": "cb47582f",
   "metadata": {},
   "outputs": [],
   "source": [
    "# Introduction to slixing of lists:-"
   ]
  },
  {
   "cell_type": "code",
   "execution_count": 39,
   "id": "e4e2ca4e",
   "metadata": {},
   "outputs": [],
   "source": [
    "students=['ravi','abdul','naveen','kumar','rukhsana','simran','keerthi','kalpesh']"
   ]
  },
  {
   "cell_type": "code",
   "execution_count": 40,
   "id": "fe603f3a",
   "metadata": {},
   "outputs": [
    {
     "name": "stdout",
     "output_type": "stream",
     "text": [
      "['ravi', 'abdul', 'naveen', 'kumar', 'rukhsana', 'simran', 'keerthi', 'kalpesh']\n"
     ]
    }
   ],
   "source": [
    "print(students)"
   ]
  },
  {
   "cell_type": "code",
   "execution_count": 41,
   "id": "d5111049",
   "metadata": {},
   "outputs": [],
   "source": [
    "# General syntax of slicing:-"
   ]
  },
  {
   "cell_type": "code",
   "execution_count": 42,
   "id": "e39f0c3a",
   "metadata": {},
   "outputs": [],
   "source": [
    "# Start Value : stop Value : Stepcount"
   ]
  },
  {
   "cell_type": "code",
   "execution_count": 43,
   "id": "b4b3439a",
   "metadata": {},
   "outputs": [],
   "source": [
    "# Stop value/last value is alwasy exclusive if we want to includ the stopvalue increase the index by +1"
   ]
  },
  {
   "cell_type": "code",
   "execution_count": 44,
   "id": "04a7d597",
   "metadata": {},
   "outputs": [],
   "source": [
    "# Requirement :- I want ravi and abdul in the below list output"
   ]
  },
  {
   "cell_type": "code",
   "execution_count": 46,
   "id": "a821cec4",
   "metadata": {},
   "outputs": [
    {
     "name": "stdout",
     "output_type": "stream",
     "text": [
      "['ravi']\n"
     ]
    }
   ],
   "source": [
    "print(students[0:1])"
   ]
  },
  {
   "cell_type": "code",
   "execution_count": 47,
   "id": "62df4974",
   "metadata": {},
   "outputs": [
    {
     "name": "stdout",
     "output_type": "stream",
     "text": [
      "['ravi', 'abdul']\n"
     ]
    }
   ],
   "source": [
    "print(students[0:2])"
   ]
  },
  {
   "cell_type": "code",
   "execution_count": 48,
   "id": "c971c88c",
   "metadata": {},
   "outputs": [],
   "source": [
    "# Requirement:- I want naveen and kumar in the below list output?"
   ]
  },
  {
   "cell_type": "code",
   "execution_count": 49,
   "id": "2123f886",
   "metadata": {},
   "outputs": [
    {
     "name": "stdout",
     "output_type": "stream",
     "text": [
      "['naveen', 'kumar']\n"
     ]
    }
   ],
   "source": [
    "print(students[2:4])"
   ]
  },
  {
   "cell_type": "code",
   "execution_count": 50,
   "id": "ec05a85a",
   "metadata": {},
   "outputs": [
    {
     "name": "stdout",
     "output_type": "stream",
     "text": [
      "['ravi', 'naveen', 'rukhsana', 'keerthi']\n"
     ]
    }
   ],
   "source": [
    "print(students[0:8:2])"
   ]
  },
  {
   "cell_type": "code",
   "execution_count": null,
   "id": "9b1fdcee",
   "metadata": {},
   "outputs": [],
   "source": []
  },
  {
   "cell_type": "code",
   "execution_count": null,
   "id": "516def92",
   "metadata": {},
   "outputs": [],
   "source": []
  },
  {
   "cell_type": "code",
   "execution_count": null,
   "id": "35cff0f0",
   "metadata": {},
   "outputs": [],
   "source": []
  },
  {
   "cell_type": "code",
   "execution_count": null,
   "id": "007746d8",
   "metadata": {},
   "outputs": [],
   "source": []
  }
 ],
 "metadata": {
  "kernelspec": {
   "display_name": "Python 3",
   "language": "python",
   "name": "python3"
  },
  "language_info": {
   "codemirror_mode": {
    "name": "ipython",
    "version": 3
   },
   "file_extension": ".py",
   "mimetype": "text/x-python",
   "name": "python",
   "nbconvert_exporter": "python",
   "pygments_lexer": "ipython3",
   "version": "3.8.8"
  }
 },
 "nbformat": 4,
 "nbformat_minor": 5
}
