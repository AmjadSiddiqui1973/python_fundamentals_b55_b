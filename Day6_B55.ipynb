{
 "cells": [
  {
   "cell_type": "code",
   "execution_count": 1,
   "id": "4140fd39",
   "metadata": {},
   "outputs": [],
   "source": [
    "# Introducion to looping statements:-"
   ]
  },
  {
   "cell_type": "code",
   "execution_count": 16,
   "id": "f082b11f",
   "metadata": {},
   "outputs": [],
   "source": [
    "students=['sunil','ruksana','keerthi', 'naveen','meghna','surnalatha']"
   ]
  },
  {
   "cell_type": "code",
   "execution_count": 3,
   "id": "e434c2c2",
   "metadata": {},
   "outputs": [],
   "source": [
    "# Requirement:- I want ot appreciate all the studetns above.....?"
   ]
  },
  {
   "cell_type": "code",
   "execution_count": 17,
   "id": "df520929",
   "metadata": {},
   "outputs": [
    {
     "name": "stdout",
     "output_type": "stream",
     "text": [
      "['sunil', 'ruksana', 'keerthi', 'naveen', 'meghna', 'surnalatha']\n"
     ]
    }
   ],
   "source": [
    "print(students)"
   ]
  },
  {
   "cell_type": "code",
   "execution_count": 18,
   "id": "1fd259e4",
   "metadata": {},
   "outputs": [
    {
     "name": "stdout",
     "output_type": "stream",
     "text": [
      "keep up the good work,Sunil\n"
     ]
    }
   ],
   "source": [
    "print(f\"keep up the good work,{students[0].title()}\")"
   ]
  },
  {
   "cell_type": "code",
   "execution_count": 19,
   "id": "1504ed0c",
   "metadata": {},
   "outputs": [
    {
     "name": "stdout",
     "output_type": "stream",
     "text": [
      "keep up the good work,Ruksana\n"
     ]
    }
   ],
   "source": [
    "print(f\"keep up the good work,{students[1].title()}\")"
   ]
  },
  {
   "cell_type": "code",
   "execution_count": 20,
   "id": "2a6b1e77",
   "metadata": {},
   "outputs": [
    {
     "name": "stdout",
     "output_type": "stream",
     "text": [
      "keep up the good work,Keerthi\n"
     ]
    }
   ],
   "source": [
    "print(f\"keep up the good work,{students[2].title()}\")"
   ]
  },
  {
   "cell_type": "code",
   "execution_count": 21,
   "id": "7f9a6660",
   "metadata": {},
   "outputs": [
    {
     "name": "stdout",
     "output_type": "stream",
     "text": [
      "keep up the good work,Naveen\n"
     ]
    }
   ],
   "source": [
    "print(f\"keep up the good work,{students[3].title()}\")"
   ]
  },
  {
   "cell_type": "code",
   "execution_count": 22,
   "id": "b8ae0e3b",
   "metadata": {},
   "outputs": [
    {
     "name": "stdout",
     "output_type": "stream",
     "text": [
      "keep up the good work,Meghna\n"
     ]
    }
   ],
   "source": [
    "print(f\"keep up the good work,{students[4].title()}\")"
   ]
  },
  {
   "cell_type": "code",
   "execution_count": 23,
   "id": "d7fe777e",
   "metadata": {},
   "outputs": [
    {
     "name": "stdout",
     "output_type": "stream",
     "text": [
      "keep up the good work,Surnalatha\n"
     ]
    }
   ],
   "source": [
    "print(f\"keep up the good work,{students[5].title()}\")"
   ]
  },
  {
   "cell_type": "code",
   "execution_count": 25,
   "id": "e79f9ed2",
   "metadata": {},
   "outputs": [
    {
     "name": "stdout",
     "output_type": "stream",
     "text": [
      "keep up the good work,Ruksana\n"
     ]
    }
   ],
   "source": [
    "print(f\"keep up the good work,{students[1].title()}\")"
   ]
  },
  {
   "cell_type": "code",
   "execution_count": 27,
   "id": "5119c18d",
   "metadata": {},
   "outputs": [],
   "source": [
    "# Getting the understanding of the for loop"
   ]
  },
  {
   "cell_type": "code",
   "execution_count": 28,
   "id": "43bd353a",
   "metadata": {},
   "outputs": [],
   "source": [
    "# General syntax of the for loop:-"
   ]
  },
  {
   "cell_type": "code",
   "execution_count": 29,
   "id": "d20e79b9",
   "metadata": {},
   "outputs": [],
   "source": [
    " # fortempvar in mainvar:"
   ]
  },
  {
   "cell_type": "code",
   "execution_count": 46,
   "id": "825008d4",
   "metadata": {},
   "outputs": [],
   "source": [
    "#print(tempvar) # indentation"
   ]
  },
  {
   "cell_type": "code",
   "execution_count": null,
   "id": "bddc5c00",
   "metadata": {},
   "outputs": [],
   "source": []
  },
  {
   "cell_type": "code",
   "execution_count": 33,
   "id": "f02314fc",
   "metadata": {},
   "outputs": [
    {
     "name": "stdout",
     "output_type": "stream",
     "text": [
      "['sunil', 'ruksana', 'keerthi', 'naveen', 'meghna', 'surnalatha']\n"
     ]
    }
   ],
   "source": [
    "print(students)"
   ]
  },
  {
   "cell_type": "code",
   "execution_count": 40,
   "id": "c867567e",
   "metadata": {},
   "outputs": [
    {
     "name": "stdout",
     "output_type": "stream",
     "text": [
      "keep up the good work,Sunil\n",
      "keep up the good work,Ruksana\n",
      "keep up the good work,Keerthi\n",
      "keep up the good work,Naveen\n",
      "keep up the good work,Meghna\n",
      "keep up the good work,Surnalatha\n"
     ]
    }
   ],
   "source": [
    "for x in students:\n",
    "    print(f\"keep up the good work,{x.title()}\")"
   ]
  },
  {
   "cell_type": "code",
   "execution_count": 43,
   "id": "f6791d48",
   "metadata": {},
   "outputs": [
    {
     "name": "stdout",
     "output_type": "stream",
     "text": [
      "sunil\n",
      "ruksana\n",
      "keerthi\n",
      "naveen\n",
      "meghna\n",
      "surnalatha\n"
     ]
    }
   ],
   "source": [
    "for a in students:\n",
    "    print(a)"
   ]
  },
  {
   "cell_type": "code",
   "execution_count": 45,
   "id": "20c332aa",
   "metadata": {},
   "outputs": [
    {
     "name": "stdout",
     "output_type": "stream",
     "text": [
      "keep up the good work,Sunil\n",
      "keep up the good work,Ruksana\n",
      "keep up the good work,Keerthi\n",
      "keep up the good work,Naveen\n",
      "keep up the good work,Meghna\n",
      "keep up the good work,Surnalatha\n"
     ]
    }
   ],
   "source": [
    "for ironman in students:\n",
    "    print(f\"keep up the good work,{ironman.title()}\")"
   ]
  },
  {
   "cell_type": "code",
   "execution_count": null,
   "id": "2e8aa0f8",
   "metadata": {},
   "outputs": [],
   "source": [
    "# Requirement : i want to tell them that \" i will be looking for todays github url in my inbox\""
   ]
  },
  {
   "cell_type": "code",
   "execution_count": 48,
   "id": "e4cbb72f",
   "metadata": {},
   "outputs": [
    {
     "name": "stdout",
     "output_type": "stream",
     "text": [
      "keep up the good work,Sunil\n",
      "i will be looking for todays github url in my inbox,Sunil\n",
      "keep up the good work,Ruksana\n",
      "i will be looking for todays github url in my inbox,Ruksana\n",
      "keep up the good work,Keerthi\n",
      "i will be looking for todays github url in my inbox,Keerthi\n",
      "keep up the good work,Naveen\n",
      "i will be looking for todays github url in my inbox,Naveen\n",
      "keep up the good work,Meghna\n",
      "i will be looking for todays github url in my inbox,Meghna\n",
      "keep up the good work,Surnalatha\n",
      "i will be looking for todays github url in my inbox,Surnalatha\n"
     ]
    }
   ],
   "source": [
    "for x in students:\n",
    "    print(f\"keep up the good work,{x.title()}\")\n",
    "    print (f\"i will be looking for todays github url in my inbox,{x.title()}\")"
   ]
  },
  {
   "cell_type": "code",
   "execution_count": 49,
   "id": "82dd6890",
   "metadata": {},
   "outputs": [
    {
     "name": "stdout",
     "output_type": "stream",
     "text": [
      "keep up the good work,Sunil\n",
      "i will be looking for todays github url in my inbox,Sunil\n",
      "\n",
      "keep up the good work,Ruksana\n",
      "i will be looking for todays github url in my inbox,Ruksana\n",
      "\n",
      "keep up the good work,Keerthi\n",
      "i will be looking for todays github url in my inbox,Keerthi\n",
      "\n",
      "keep up the good work,Naveen\n",
      "i will be looking for todays github url in my inbox,Naveen\n",
      "\n",
      "keep up the good work,Meghna\n",
      "i will be looking for todays github url in my inbox,Meghna\n",
      "\n",
      "keep up the good work,Surnalatha\n",
      "i will be looking for todays github url in my inbox,Surnalatha\n",
      "\n"
     ]
    }
   ],
   "source": [
    "for x in students:\n",
    "    print(f\"keep up the good work,{x.title()}\")\n",
    "    print (f\"i will be looking for todays github url in my inbox,{x.title()}\\n\")"
   ]
  },
  {
   "cell_type": "code",
   "execution_count": null,
   "id": "f5b5fa10",
   "metadata": {},
   "outputs": [],
   "source": []
  },
  {
   "cell_type": "code",
   "execution_count": null,
   "id": "c8f81be3",
   "metadata": {},
   "outputs": [],
   "source": []
  },
  {
   "cell_type": "code",
   "execution_count": null,
   "id": "e2a74777",
   "metadata": {},
   "outputs": [],
   "source": []
  },
  {
   "cell_type": "code",
   "execution_count": null,
   "id": "c9da1cdf",
   "metadata": {},
   "outputs": [],
   "source": []
  },
  {
   "cell_type": "code",
   "execution_count": null,
   "id": "0dfce249",
   "metadata": {},
   "outputs": [],
   "source": []
  },
  {
   "cell_type": "code",
   "execution_count": null,
   "id": "0222d644",
   "metadata": {},
   "outputs": [],
   "source": []
  },
  {
   "cell_type": "code",
   "execution_count": null,
   "id": "204583e7",
   "metadata": {},
   "outputs": [],
   "source": []
  },
  {
   "cell_type": "code",
   "execution_count": null,
   "id": "2745f17b",
   "metadata": {},
   "outputs": [],
   "source": []
  },
  {
   "cell_type": "code",
   "execution_count": null,
   "id": "ba5cda1d",
   "metadata": {},
   "outputs": [],
   "source": []
  },
  {
   "cell_type": "code",
   "execution_count": null,
   "id": "4e5729e2",
   "metadata": {},
   "outputs": [],
   "source": []
  },
  {
   "cell_type": "code",
   "execution_count": null,
   "id": "300df56b",
   "metadata": {},
   "outputs": [],
   "source": []
  },
  {
   "cell_type": "code",
   "execution_count": null,
   "id": "4e490084",
   "metadata": {},
   "outputs": [],
   "source": []
  }
 ],
 "metadata": {
  "kernelspec": {
   "display_name": "Python 3",
   "language": "python",
   "name": "python3"
  },
  "language_info": {
   "codemirror_mode": {
    "name": "ipython",
    "version": 3
   },
   "file_extension": ".py",
   "mimetype": "text/x-python",
   "name": "python",
   "nbconvert_exporter": "python",
   "pygments_lexer": "ipython3",
   "version": "3.8.8"
  }
 },
 "nbformat": 4,
 "nbformat_minor": 5
}
