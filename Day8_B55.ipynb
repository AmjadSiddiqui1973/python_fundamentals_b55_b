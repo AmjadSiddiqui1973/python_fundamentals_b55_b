{
 "cells": [
  {
   "cell_type": "code",
   "execution_count": 1,
   "id": "1a3e099e",
   "metadata": {},
   "outputs": [],
   "source": [
    "# Undestanding Conditional Statment:"
   ]
  },
  {
   "cell_type": "code",
   "execution_count": 4,
   "id": "3f6b9992",
   "metadata": {},
   "outputs": [],
   "source": [
    " # if condition_test"
   ]
  },
  {
   "cell_type": "code",
   "execution_count": 5,
   "id": "c70cee81",
   "metadata": {},
   "outputs": [],
   "source": [
    " # do something"
   ]
  },
  {
   "cell_type": "code",
   "execution_count": 6,
   "id": "e1d9e130",
   "metadata": {},
   "outputs": [],
   "source": [
    "# if elscondtions:"
   ]
  },
  {
   "cell_type": "code",
   "execution_count": 8,
   "id": "ce2f3a99",
   "metadata": {},
   "outputs": [],
   "source": [
    "cars=['audi','benz','bmw','toyota','hyundai']"
   ]
  },
  {
   "cell_type": "code",
   "execution_count": 9,
   "id": "a430875e",
   "metadata": {},
   "outputs": [],
   "source": [
    "# requirment i want to print in bmw in capitals and remaining all other in the title case ....?"
   ]
  },
  {
   "cell_type": "code",
   "execution_count": 19,
   "id": "ce3289b1",
   "metadata": {},
   "outputs": [
    {
     "name": "stdout",
     "output_type": "stream",
     "text": [
      "Audi\n",
      "Benz\n",
      "BMW\n",
      "Toyota\n",
      "Hyundai\n"
     ]
    }
   ],
   "source": [
    "for x in cars:\n",
    "    if x == 'bmw':\n",
    "        print(x.upper())\n",
    "    else:\n",
    "        print(x.title())"
   ]
  },
  {
   "cell_type": "code",
   "execution_count": 20,
   "id": "2564a46b",
   "metadata": {},
   "outputs": [],
   "source": [
    "# Case study : Building a simple vothing application:"
   ]
  },
  {
   "cell_type": "code",
   "execution_count": 22,
   "id": "7c680708",
   "metadata": {},
   "outputs": [],
   "source": [
    "age=12"
   ]
  },
  {
   "cell_type": "code",
   "execution_count": 23,
   "id": "29dad341",
   "metadata": {},
   "outputs": [
    {
     "name": "stdout",
     "output_type": "stream",
     "text": [
      "you are not eligible to vote\n"
     ]
    }
   ],
   "source": [
    "if age>=18:\n",
    "    print(\"you are elegible to vote\")\n",
    "else:\n",
    "    print(\"you are not eligible to vote\")"
   ]
  },
  {
   "cell_type": "code",
   "execution_count": null,
   "id": "ebeeb629",
   "metadata": {},
   "outputs": [],
   "source": [
    "age=19"
   ]
  },
  {
   "cell_type": "code",
   "execution_count": 24,
   "id": "8f5450ca",
   "metadata": {},
   "outputs": [
    {
     "name": "stdout",
     "output_type": "stream",
     "text": [
      "you are not eligible to vote\n"
     ]
    }
   ],
   "source": [
    "if age>=18:\n",
    "    print(\"you are elegible to vote\")\n",
    "else:\n",
    "    print(\"you are not eligible to vote\")"
   ]
  },
  {
   "cell_type": "code",
   "execution_count": null,
   "id": "ddf3486d",
   "metadata": {},
   "outputs": [],
   "source": []
  },
  {
   "cell_type": "code",
   "execution_count": 26,
   "id": "e7796bb6",
   "metadata": {},
   "outputs": [],
   "source": [
    "# zen of python:"
   ]
  },
  {
   "cell_type": "code",
   "execution_count": 27,
   "id": "10a28479",
   "metadata": {},
   "outputs": [
    {
     "name": "stdout",
     "output_type": "stream",
     "text": [
      "The Zen of Python, by Tim Peters\n",
      "\n",
      "Beautiful is better than ugly.\n",
      "Explicit is better than implicit.\n",
      "Simple is better than complex.\n",
      "Complex is better than complicated.\n",
      "Flat is better than nested.\n",
      "Sparse is better than dense.\n",
      "Readability counts.\n",
      "Special cases aren't special enough to break the rules.\n",
      "Although practicality beats purity.\n",
      "Errors should never pass silently.\n",
      "Unless explicitly silenced.\n",
      "In the face of ambiguity, refuse the temptation to guess.\n",
      "There should be one-- and preferably only one --obvious way to do it.\n",
      "Although that way may not be obvious at first unless you're Dutch.\n",
      "Now is better than never.\n",
      "Although never is often better than *right* now.\n",
      "If the implementation is hard to explain, it's a bad idea.\n",
      "If the implementation is easy to explain, it may be a good idea.\n",
      "Namespaces are one honking great idea -- let's do more of those!\n"
     ]
    }
   ],
   "source": [
    "import this"
   ]
  },
  {
   "cell_type": "code",
   "execution_count": null,
   "id": "715aa708",
   "metadata": {},
   "outputs": [],
   "source": []
  },
  {
   "cell_type": "code",
   "execution_count": null,
   "id": "ae91c470",
   "metadata": {},
   "outputs": [],
   "source": []
  },
  {
   "cell_type": "code",
   "execution_count": null,
   "id": "5833bab6",
   "metadata": {},
   "outputs": [],
   "source": []
  },
  {
   "cell_type": "code",
   "execution_count": null,
   "id": "dcdbfd78",
   "metadata": {},
   "outputs": [],
   "source": []
  }
 ],
 "metadata": {
  "kernelspec": {
   "display_name": "Python 3",
   "language": "python",
   "name": "python3"
  },
  "language_info": {
   "codemirror_mode": {
    "name": "ipython",
    "version": 3
   },
   "file_extension": ".py",
   "mimetype": "text/x-python",
   "name": "python",
   "nbconvert_exporter": "python",
   "pygments_lexer": "ipython3",
   "version": "3.8.8"
  }
 },
 "nbformat": 4,
 "nbformat_minor": 5
}
