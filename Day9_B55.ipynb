{
 "cells": [
  {
   "cell_type": "code",
   "execution_count": 1,
   "id": "47be7d18",
   "metadata": {},
   "outputs": [],
   "source": [
    "# Introduction to tuple data types:"
   ]
  },
  {
   "cell_type": "code",
   "execution_count": 2,
   "id": "8b0fd3b7",
   "metadata": {},
   "outputs": [],
   "source": [
    "# Definatio: An immutable list is called a tuple."
   ]
  },
  {
   "cell_type": "code",
   "execution_count": null,
   "id": "15a97e7d",
   "metadata": {},
   "outputs": [],
   "source": [
    "# How to define the tuple .....? ()"
   ]
  },
  {
   "cell_type": "code",
   "execution_count": 7,
   "id": "c888b9bd",
   "metadata": {},
   "outputs": [],
   "source": [
    "students= ('priyanka','preeti','naveen','kumar')"
   ]
  },
  {
   "cell_type": "code",
   "execution_count": 8,
   "id": "c60bcaac",
   "metadata": {},
   "outputs": [
    {
     "name": "stdout",
     "output_type": "stream",
     "text": [
      "('priyanka', 'preeti', 'naveen', 'kumar')\n"
     ]
    }
   ],
   "source": [
    "print(students)"
   ]
  },
  {
   "cell_type": "code",
   "execution_count": 10,
   "id": "26cbbae7",
   "metadata": {},
   "outputs": [
    {
     "name": "stdout",
     "output_type": "stream",
     "text": [
      "preeti\n"
     ]
    }
   ],
   "source": [
    "print(students[1])"
   ]
  },
  {
   "cell_type": "code",
   "execution_count": 11,
   "id": "c67c22bd",
   "metadata": {},
   "outputs": [
    {
     "data": {
      "text/plain": [
       "tuple"
      ]
     },
     "execution_count": 11,
     "metadata": {},
     "output_type": "execute_result"
    }
   ],
   "source": [
    "type(students)"
   ]
  },
  {
   "cell_type": "code",
   "execution_count": 12,
   "id": "bef7eec9",
   "metadata": {},
   "outputs": [],
   "source": [
    "# Change the name of priyanka to hema"
   ]
  },
  {
   "cell_type": "code",
   "execution_count": 17,
   "id": "7591b6d9",
   "metadata": {},
   "outputs": [
    {
     "ename": "TypeError",
     "evalue": "'tuple' object does not support item assignment",
     "output_type": "error",
     "traceback": [
      "\u001b[1;31m---------------------------------------------------------------------------\u001b[0m",
      "\u001b[1;31mTypeError\u001b[0m                                 Traceback (most recent call last)",
      "\u001b[1;32m<ipython-input-17-ea3cef2a29ab>\u001b[0m in \u001b[0;36m<module>\u001b[1;34m\u001b[0m\n\u001b[1;32m----> 1\u001b[1;33m \u001b[0mstudents\u001b[0m\u001b[1;33m[\u001b[0m\u001b[1;36m0\u001b[0m\u001b[1;33m]\u001b[0m\u001b[1;33m=\u001b[0m\u001b[1;34m'Hema'\u001b[0m\u001b[1;33m\u001b[0m\u001b[1;33m\u001b[0m\u001b[0m\n\u001b[0m",
      "\u001b[1;31mTypeError\u001b[0m: 'tuple' object does not support item assignment"
     ]
    }
   ],
   "source": [
    "students[0]='Hema'"
   ]
  },
  {
   "cell_type": "code",
   "execution_count": 18,
   "id": "d64b0d2e",
   "metadata": {},
   "outputs": [],
   "source": [
    "dimensions = (200,50)"
   ]
  },
  {
   "cell_type": "code",
   "execution_count": 19,
   "id": "d0f0726d",
   "metadata": {},
   "outputs": [
    {
     "name": "stdout",
     "output_type": "stream",
     "text": [
      "(200, 50)\n"
     ]
    }
   ],
   "source": [
    "print(dimensions)"
   ]
  },
  {
   "cell_type": "code",
   "execution_count": null,
   "id": "e95cb6b2",
   "metadata": {},
   "outputs": [],
   "source": [
    "#requirement : 250.....?"
   ]
  },
  {
   "cell_type": "code",
   "execution_count": 20,
   "id": "232882a3",
   "metadata": {},
   "outputs": [
    {
     "name": "stdout",
     "output_type": "stream",
     "text": [
      "('priyanka', 'preeti', 'naveen', 'kumar')\n"
     ]
    }
   ],
   "source": [
    "print(studetns)"
   ]
  },
  {
   "cell_type": "code",
   "execution_count": 21,
   "id": "445cd357",
   "metadata": {},
   "outputs": [
    {
     "name": "stdout",
     "output_type": "stream",
     "text": [
      "priyanka\n",
      "preeti\n",
      "naveen\n",
      "kumar\n"
     ]
    }
   ],
   "source": [
    "for x in studetns:\n",
    "    print(x)"
   ]
  },
  {
   "cell_type": "code",
   "execution_count": 22,
   "id": "d3b30c8a",
   "metadata": {},
   "outputs": [],
   "source": [
    "# Introduction to dictionary data type:"
   ]
  },
  {
   "cell_type": "code",
   "execution_count": 23,
   "id": "943a2bfb",
   "metadata": {},
   "outputs": [],
   "source": [
    "#Definiation : A dictionary is a combinatrion of key, value pairs"
   ]
  },
  {
   "cell_type": "code",
   "execution_count": 24,
   "id": "9b9a935f",
   "metadata": {},
   "outputs": [],
   "source": [
    "# Classificaiton : It is classified as mutuble data type"
   ]
  },
  {
   "cell_type": "code",
   "execution_count": 25,
   "id": "aa3f8b6d",
   "metadata": {},
   "outputs": [],
   "source": [
    "# How to define dictionary ....? {}"
   ]
  },
  {
   "cell_type": "code",
   "execution_count": 26,
   "id": "1c324a8f",
   "metadata": {},
   "outputs": [],
   "source": [
    "alien={'color':'green','points':5}"
   ]
  },
  {
   "cell_type": "code",
   "execution_count": 27,
   "id": "d91fa79a",
   "metadata": {},
   "outputs": [
    {
     "name": "stdout",
     "output_type": "stream",
     "text": [
      "{'color': 'green', 'points': 5}\n"
     ]
    }
   ],
   "source": [
    "print(alien)"
   ]
  },
  {
   "cell_type": "code",
   "execution_count": 28,
   "id": "b3d5dc0b",
   "metadata": {},
   "outputs": [],
   "source": [
    "# How to access the value from a dictionary ....?"
   ]
  },
  {
   "cell_type": "code",
   "execution_count": 29,
   "id": "ede80015",
   "metadata": {},
   "outputs": [
    {
     "name": "stdout",
     "output_type": "stream",
     "text": [
      "green\n"
     ]
    }
   ],
   "source": [
    "print(alien['color'])"
   ]
  },
  {
   "cell_type": "code",
   "execution_count": 30,
   "id": "50541fe4",
   "metadata": {},
   "outputs": [],
   "source": [
    "# I want to know the point.....?"
   ]
  },
  {
   "cell_type": "code",
   "execution_count": 33,
   "id": "d04c176d",
   "metadata": {},
   "outputs": [
    {
     "name": "stdout",
     "output_type": "stream",
     "text": [
      "5\n"
     ]
    }
   ],
   "source": [
    "print(alien['points'])"
   ]
  },
  {
   "cell_type": "code",
   "execution_count": 34,
   "id": "6e875d1e",
   "metadata": {},
   "outputs": [],
   "source": [
    "# Give the key and got the value"
   ]
  },
  {
   "cell_type": "code",
   "execution_count": 35,
   "id": "8c9ce94a",
   "metadata": {},
   "outputs": [],
   "source": [
    "# How to add new key value pair...?"
   ]
  },
  {
   "cell_type": "code",
   "execution_count": 40,
   "id": "0440fe5b",
   "metadata": {},
   "outputs": [],
   "source": [
    "alien['start position']=0"
   ]
  },
  {
   "cell_type": "code",
   "execution_count": 41,
   "id": "66147871",
   "metadata": {},
   "outputs": [
    {
     "name": "stdout",
     "output_type": "stream",
     "text": [
      "{'color': 'green', 'points': 5, 'start position': 0}\n"
     ]
    }
   ],
   "source": [
    "print(alien)"
   ]
  },
  {
   "cell_type": "code",
   "execution_count": 45,
   "id": "147d2c4b",
   "metadata": {},
   "outputs": [],
   "source": [
    "alien['current_position']=2"
   ]
  },
  {
   "cell_type": "code",
   "execution_count": 46,
   "id": "cfb895e2",
   "metadata": {},
   "outputs": [
    {
     "name": "stdout",
     "output_type": "stream",
     "text": [
      "{'color': 'green', 'points': 5, 'start position': 0, 'current_position': 2}\n"
     ]
    }
   ],
   "source": [
    "print(alien)"
   ]
  },
  {
   "cell_type": "code",
   "execution_count": 47,
   "id": "a2ad10ef",
   "metadata": {},
   "outputs": [],
   "source": [
    "alien['color']='yellow'"
   ]
  },
  {
   "cell_type": "code",
   "execution_count": 48,
   "id": "175ec595",
   "metadata": {},
   "outputs": [
    {
     "name": "stdout",
     "output_type": "stream",
     "text": [
      "{'color': 'yellow', 'points': 5, 'start position': 0, 'current_position': 2}\n"
     ]
    }
   ],
   "source": [
    "print(alien)"
   ]
  },
  {
   "cell_type": "code",
   "execution_count": 49,
   "id": "3b1d9348",
   "metadata": {},
   "outputs": [],
   "source": [
    "# Howto delete the key value pair:-"
   ]
  },
  {
   "cell_type": "code",
   "execution_count": 50,
   "id": "3f063705",
   "metadata": {},
   "outputs": [],
   "source": [
    "# I want to delete the start position...?"
   ]
  },
  {
   "cell_type": "code",
   "execution_count": 53,
   "id": "1c7f97ec",
   "metadata": {},
   "outputs": [
    {
     "ename": "NameError",
     "evalue": "name 'start_position' is not defined",
     "output_type": "error",
     "traceback": [
      "\u001b[1;31m---------------------------------------------------------------------------\u001b[0m",
      "\u001b[1;31mNameError\u001b[0m                                 Traceback (most recent call last)",
      "\u001b[1;32m<ipython-input-53-c7321c146724>\u001b[0m in \u001b[0;36m<module>\u001b[1;34m\u001b[0m\n\u001b[1;32m----> 1\u001b[1;33m \u001b[1;32mdel\u001b[0m \u001b[0malien\u001b[0m\u001b[1;33m[\u001b[0m\u001b[0mstart_position\u001b[0m\u001b[1;33m]\u001b[0m\u001b[1;33m\u001b[0m\u001b[1;33m\u001b[0m\u001b[0m\n\u001b[0m",
      "\u001b[1;31mNameError\u001b[0m: name 'start_position' is not defined"
     ]
    }
   ],
   "source": [
    "del alien[start_position]"
   ]
  },
  {
   "cell_type": "code",
   "execution_count": null,
   "id": "a66e2664",
   "metadata": {},
   "outputs": [],
   "source": []
  },
  {
   "cell_type": "code",
   "execution_count": null,
   "id": "df6240ad",
   "metadata": {},
   "outputs": [],
   "source": []
  },
  {
   "cell_type": "code",
   "execution_count": null,
   "id": "f986f59a",
   "metadata": {},
   "outputs": [],
   "source": []
  },
  {
   "cell_type": "code",
   "execution_count": null,
   "id": "c0b8a823",
   "metadata": {},
   "outputs": [],
   "source": []
  },
  {
   "cell_type": "code",
   "execution_count": null,
   "id": "5a499084",
   "metadata": {},
   "outputs": [],
   "source": []
  }
 ],
 "metadata": {
  "kernelspec": {
   "display_name": "Python 3",
   "language": "python",
   "name": "python3"
  },
  "language_info": {
   "codemirror_mode": {
    "name": "ipython",
    "version": 3
   },
   "file_extension": ".py",
   "mimetype": "text/x-python",
   "name": "python",
   "nbconvert_exporter": "python",
   "pygments_lexer": "ipython3",
   "version": "3.8.8"
  }
 },
 "nbformat": 4,
 "nbformat_minor": 5
}
